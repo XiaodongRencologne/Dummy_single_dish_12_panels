{
 "cells": [
  {
   "cell_type": "code",
   "execution_count": 1,
   "metadata": {},
   "outputs": [],
   "source": [
    "import numpy as np\n",
    "import torch as T\n",
    "import scipy; import scipy.optimize;\n",
    "import time;\n",
    "\n",
    "import matplotlib;\n",
    "import matplotlib.pyplot as plt\n",
    "\n",
    "import  forward_method as FM;\n"
   ]
  },
  {
   "cell_type": "code",
   "execution_count": 37,
   "metadata": {},
   "outputs": [],
   "source": [
    "\"\"\"\n",
    "cell 1: model of \n",
    "define distance between field and reflector;\n",
    "define the smapling points.\n",
    "\"\"\"\n",
    "D=100*10**3; # distance between source and reflector\n",
    "Nu=Nv=11;   #sampling points of far-/near-field\n",
    "noise=0.5;  # rms of the noise added to measurement pattern.\n",
    "rms_surface=0.08#mm # rms of the surface error.\n",
    "\n",
    "Nx=5;    # sampling poitns on x direction; for panels\n",
    "Ny=5;    # sampling points on y direction;\n",
    "##############################################################################\n",
    "List=np.array([[-500,500,-1500,-500,500,1500,-1500,-500,500,1500,-500,500],\n",
    "               [1500,1500,500,500,500,500,-500,-500,-500,-500,-1500,-1500]]);\n",
    "size=1000; # size of panel\n",
    "Nx=5;    # sampling poitns on x direction;\n",
    "Ny=5;    # sampling points on y direction;\n",
    "f=100*10**3;\n",
    "\n",
    "Lambda=1#mm\n",
    "sigma=1200;Amp_0=1\n",
    "# define u v range\n",
    "\n",
    "u=np.linspace(-1,1,Nu)*0.002;\n",
    "v=np.linspace(-1,1,Nu)*0.002;\n",
    "gird=np.moveaxis(np.meshgrid(u,v),0,-1);\n",
    "u=gird[...,0];\n",
    "v=gird[...,1];\n",
    "m_x,m_y,m_z=FM.reflector(List,size,Nx,Ny,f)\n",
    "far_field=FM.get_function(List,size,Nx,Ny,f,u,v,f,Lambda,sigma,Amp_0);\n",
    "\n",
    "# near field\n",
    "near_field=FM.get_function(List,size,Nx,Ny,f,u,v,D,Lambda,sigma,Amp_0);"
   ]
  },
  {
   "cell_type": "code",
   "execution_count": 38,
   "metadata": {},
   "outputs": [],
   "source": [
    "\"\"\"\n",
    "Cell 2: get the measurement data!\n",
    "\"\"\"\n",
    "# get measurement data;\n",
    "\n",
    "ad1=np.random.normal(0,rms_surface,(3,12));\n",
    "\n",
    "p=T.tensor(FM.adjuster2P(ad1));\n",
    "\n",
    "real_meas,imag_meas=near_field(p);\n",
    "\n",
    "if noise != 0:\n",
    "    FM.addnoise(real_meas,imag_meas,0,noise);# add noise with measurement data;\n",
    "\n",
    "\n",
    "Data_meas=T.cat((real_meas,imag_meas));\n"
   ]
  },
  {
   "cell_type": "code",
   "execution_count": 43,
   "metadata": {},
   "outputs": [
    {
     "name": "stdout",
     "output_type": "stream",
     "text": [
      "Time used: 0.47502782085757644\n",
      "1. fitting error: 1.079385e+01 um\n",
      "2. fitting results:\n",
      "[[-0.07414452 -0.06975436 -0.02578214 -0.13186334 -0.02720469  0.01871247\n",
      "   0.03011735  0.00892088 -0.09734205  0.04793119  0.01538287  0.02072944]\n",
      " [-0.09455988 -0.13108293  0.0427587  -0.03007558 -0.04842263  0.14204247\n",
      "   0.00446034 -0.0884737  -0.0086313  -0.06358072 -0.08700857  0.05323603]\n",
      " [-0.15341208 -0.07200725 -0.00459877  0.08444798 -0.01811255 -0.03694316\n",
      "  -0.0150464  -0.06146558  0.01765128 -0.13353758  0.09802521 -0.20914865]]\n",
      "3. real adjusters of test:\n",
      "[[-0.07286606 -0.07347146 -0.04582549 -0.13442543 -0.02161806  0.01876775\n",
      "   0.0102924   0.00990572 -0.0959331   0.02420154  0.03397087  0.02430042]\n",
      " [-0.10695027 -0.13705459  0.05671959 -0.02681405 -0.04272744  0.12357636\n",
      "   0.04779676 -0.09246239 -0.00196538 -0.10406666 -0.07648266  0.05594691]\n",
      " [-0.13102039 -0.07553561 -0.00869023  0.07426502 -0.01635036 -0.02412607\n",
      "  -0.02771401 -0.06000308  0.01798137 -0.10877225  0.07871252 -0.21560559]]\n"
     ]
    }
   ],
   "source": [
    "\"\"\"\n",
    "Cell 3:\n",
    "fitting process with unit_vectors\n",
    "\"\"\"\n",
    "\n",
    "start=time.clock();\n",
    "ad=np.zeros((3,12));\n",
    "dz=10/1000;\n",
    "for n in range(5):\n",
    "    reference,base_vectors=FM.basevectors(near_field,ad,dz);\n",
    "    test=Data_meas-reference;\n",
    "    def fitfn(p):\n",
    "        \n",
    "        #p=T.tensor(p, requires_grad=True);        \n",
    "        p=T.tensor(p).view(-1,1);\n",
    "        r=(test-T.sum(p*base_vectors,0));\n",
    "        return r.data.cpu().numpy()#,p.grad.data.cpu().numpy()\n",
    "    para=np.zeros((3,12));\n",
    "    x=scipy.optimize.leastsq(fitfn,para);\n",
    "    #print(x[0])\n",
    "    ad=ad+x[0].reshape((3,12))*dz;\n",
    "    dz=1/1000;\n",
    "    \n",
    "elapsed = (time.clock() - start);\n",
    "print(\"Time used:\",elapsed);   \n",
    "error=np.sum(np.abs(ad-ad1))/36*1000;\n",
    "print('1. fitting error: %e um'% error);\n",
    "print('2. fitting results:');\n",
    "print(ad);\n",
    "print('3. real adjusters of test:')\n",
    "print(ad1);\n",
    "\n",
    "    "
   ]
  },
  {
   "cell_type": "code",
   "execution_count": 31,
   "metadata": {},
   "outputs": [
    {
     "name": "stdout",
     "output_type": "stream",
     "text": [
      "[[ 103.27379625    5.38956876   54.11663722  248.71289249   49.02074771\n",
      "   -22.40527296   95.26638149   21.77350913   71.52406873   55.54901505\n",
      "   -11.73040511  -63.1247828 ]\n",
      " [  85.51284788   17.76524264  147.45809605 -125.1252043   131.73737673\n",
      "   135.65248326  -15.1553304   -52.96311081  113.98851052  101.85027403\n",
      "  -120.50340031   -0.92187639]\n",
      " [  77.30897889  -62.47802762   -8.72353094  -25.37890197   46.94494768\n",
      "    -1.67079341    0.60782217 -102.86611635   26.92790011   -1.82389603\n",
      "   -81.70899599  -72.61132167]]\n"
     ]
    }
   ],
   "source": [
    "print(ad1*1000);"
   ]
  },
  {
   "cell_type": "code",
   "execution_count": null,
   "metadata": {},
   "outputs": [],
   "source": []
  }
 ],
 "metadata": {
  "kernelspec": {
   "display_name": "Python 3",
   "language": "python",
   "name": "python3"
  },
  "language_info": {
   "codemirror_mode": {
    "name": "ipython",
    "version": 3
   },
   "file_extension": ".py",
   "mimetype": "text/x-python",
   "name": "python",
   "nbconvert_exporter": "python",
   "pygments_lexer": "ipython3",
   "version": "3.5.6"
  }
 },
 "nbformat": 4,
 "nbformat_minor": 2
}
