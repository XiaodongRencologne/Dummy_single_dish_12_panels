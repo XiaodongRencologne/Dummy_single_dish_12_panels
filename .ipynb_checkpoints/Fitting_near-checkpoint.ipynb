{
 "cells": [
  {
   "cell_type": "code",
   "execution_count": 11,
   "metadata": {},
   "outputs": [],
   "source": [
    "import numpy as np\n",
    "import torch as T\n",
    "import scipy; import scipy.optimize;\n",
    "import time;\n",
    "\n",
    "import matplotlib;\n",
    "import matplotlib.pyplot as plt\n",
    "\n",
    "import  forward_method as FM;\n"
   ]
  },
  {
   "cell_type": "code",
   "execution_count": 20,
   "metadata": {},
   "outputs": [],
   "source": [
    "\"\"\"\n",
    "cell 1: define\n",
    "define distance between field and reflector;\n",
    "define the smapling points.\n",
    "\"\"\"\n",
    "D=90*10**3; # distance between source and reflector\n",
    "Nu=Nv=11;   #sampling points of far-/near-field\n",
    "noise=0.1;   # rms of the noise added to measurement pattern.\n",
    "rms_surface=0.08#mm # rms of the surface error.\n",
    "\n",
    "Nx=5;    # sampling poitns on x direction; for panels\n",
    "Ny=5;    # sampling points on y direction;\n",
    "##############################################################################\n",
    "List=np.array([[-500,500,-1500,-500,500,1500,-1500,-500,500,1500,-500,500],\n",
    "               [1500,1500,500,500,500,500,-500,-500,-500,-500,-1500,-1500]]);\n",
    "size=1000; # size of panel\n",
    "Nx=5;    # sampling poitns on x direction;\n",
    "Ny=5;    # sampling points on y direction;\n",
    "f=100*10**3;\n",
    "\n",
    "Lambda=1#mm\n",
    "sigma=1200;Amp_0=1\n",
    "# define u v range\n",
    "\n",
    "u=np.linspace(-1,1,Nu)*0.002;\n",
    "v=np.linspace(-1,1,Nu)*0.002;\n",
    "gird=np.moveaxis(np.meshgrid(u,v),0,-1);\n",
    "u=gird[...,0];\n",
    "v=gird[...,1];\n",
    "m_x,m_y,m_z=FM.reflector(List,size,Nx,Ny,f)\n",
    "far_field=FM.get_function(List,size,Nx,Ny,f,u,v,f,Lambda,sigma,Amp_0);\n",
    "\n",
    "# near field\n",
    "near_field=FM.get_function(List,size,Nx,Ny,f,u,v,D,Lambda,sigma,Amp_0);"
   ]
  },
  {
   "cell_type": "code",
   "execution_count": 21,
   "metadata": {},
   "outputs": [
    {
     "name": "stdout",
     "output_type": "stream",
     "text": [
      "adjusters:\n",
      "[[ 0.02457224 -0.06292888  0.00284249  0.13419509  0.03371037  0.04644393\n",
      "   0.03911777  0.03222616 -0.14698239 -0.06223383  0.04247305 -0.01494701]\n",
      " [ 0.23270963  0.05495052  0.00193901  0.03448983 -0.09935091 -0.08143492\n",
      "  -0.02131847 -0.00681737 -0.10234853 -0.02545144  0.01578396 -0.03469464]\n",
      " [-0.00982446 -0.10304497  0.0144786  -0.00571484  0.03499515 -0.08947223\n",
      "  -0.1209635  -0.10569248  0.19073357 -0.09339793 -0.0688073   0.11620029]]\n"
     ]
    }
   ],
   "source": [
    "\"\"\"\n",
    "Cell 2: get the measurement data!\n",
    "\"\"\"\n",
    "# get measurement data;\n",
    "ad1=np.random.normal(0,rms_surface,(3,12)) # ad1 is the three different adjusters\n",
    "\n",
    "print('adjusters:');\n",
    "print(ad1)\n",
    "p=T.tensor(FM.adjuster2P(ad1));\n",
    "real_meas,imag_meas=near_field(p);\n",
    "\n",
    "# add noise to measurement data;\n",
    "if noise !=0:\n",
    "    FM.addnoise(real_meas,imag_meas,0,noise);\n",
    "\n",
    "Data_meas=T.cat((real_meas,imag_meas));\n"
   ]
  },
  {
   "cell_type": "code",
   "execution_count": 22,
   "metadata": {},
   "outputs": [
    {
     "name": "stdout",
     "output_type": "stream",
     "text": [
      ">>>> fitting process with pyTorch package\n",
      "Time used: 0.8112231130799046\n",
      "1.fitting results: adjusters\n",
      "[[  2.58927478e-02  -6.24694855e-02   8.33979662e-05   1.34305424e-01\n",
      "    3.33951811e-02   4.74586827e-02   4.02202526e-02   3.22893317e-02\n",
      "   -1.47015369e-01  -6.40429399e-02   4.20439753e-02  -1.99014242e-02]\n",
      " [  2.31085040e-01   5.51024019e-02   5.00444019e-03   3.32950518e-02\n",
      "   -9.97089320e-02  -7.86158420e-02  -2.15635117e-02  -6.81757736e-03\n",
      "   -1.02866656e-01  -2.63122234e-02   1.49929748e-02  -3.49900718e-02]\n",
      " [ -7.85649383e-03  -1.04263144e-01   9.85750473e-03  -4.77218057e-03\n",
      "    3.41699762e-02  -9.13104228e-02  -1.20786711e-01  -1.06416146e-01\n",
      "    1.89888461e-01  -8.99440462e-02  -6.69935694e-02   1.27795287e-01]]\n",
      "2.residual is 2.029446e+00\n",
      "3. rms of fitting adjusters positon relative to measurement adjusters: 1.564342e+00 um\n"
     ]
    }
   ],
   "source": [
    "\"\"\"\n",
    "Cell 3:\n",
    "fitting process with pyTorch package!\n",
    "\"\"\"\n",
    "print('>>>> fitting process with pyTorch package')\n",
    "def fitfn(ad):\n",
    "    p=FM.adjuster2P(ad);\n",
    "    \n",
    "    real,imag=near_field(p);\n",
    "    r=T.cat((real_meas-real,imag_meas-imag))\n",
    "\n",
    "    return r;\n",
    "def fitfn0(ad):\n",
    "    ad=T.tensor(ad, requires_grad=True);\n",
    "    r=(fitfn(ad)**2).sum();\n",
    "    r.backward();\n",
    "    #print(r)\n",
    "    return r.data.cpu().numpy(), ad.grad.data.cpu().numpy()\n",
    "\n",
    "# define the initial adjusters position\n",
    "ad=np.zeros((3,12));\n",
    "start=time.clock();\n",
    "x=scipy.optimize.minimize(fitfn0,ad,method=\"BFGS\",jac=True,tol=1e-5);\n",
    "elapsed = (time.clock() - start);\n",
    "print(\"Time used:\",elapsed);\n",
    "\n",
    "print('1.fitting results: adjusters')\n",
    "print(x.x.reshape(3,-1))\n",
    "print('2.residual is %e'% x.fun)\n",
    "\n",
    "error=(np.sum(np.abs(ad1-x.x.reshape(3,-1)))/36)*1000\n",
    "print('3. rms of fitting adjusters positon relative to measurement adjusters: %e um'% error);"
   ]
  },
  {
   "cell_type": "code",
   "execution_count": 23,
   "metadata": {},
   "outputs": [
    {
     "name": "stdout",
     "output_type": "stream",
     "text": [
      ">>>>fitting process with numpy\n",
      "Time used: 1.1697270572711318\n",
      "1.fitting results: adjusters\n",
      "[[ 0.02578522 -0.06247496 -0.0004545   0.1343046   0.03343264  0.04747731\n",
      "   0.04026876  0.03229267 -0.14701347 -0.06413602  0.04210742 -0.01992073]\n",
      " [ 0.23110206  0.05515972  0.00576704  0.03329733 -0.09965425 -0.07836925\n",
      "  -0.02166674 -0.00678937 -0.10286532 -0.02649179  0.01495428 -0.03501189]\n",
      " [-0.00803633 -0.10427717  0.00958725 -0.00471136  0.03419179 -0.09144774\n",
      "  -0.1207924  -0.10642152  0.18988403 -0.08993551 -0.06711248  0.12780104]]\n",
      "2. surface error of fitting adjusters positon relative to measurement adjusters: 1.621194e+00 um\n"
     ]
    }
   ],
   "source": [
    "\"\"\"\n",
    "Cell 4\n",
    "fitting process with numpy\n",
    "\"\"\"\n",
    "print('>>>>fitting process with numpy')\n",
    "def fitfn(ad): \n",
    "    p=FM.adjuster2P(ad);\n",
    "    real,imag=near_field(p);\n",
    "    r=T.cat((real_meas-real,imag_meas-imag))\n",
    "    return r;\n",
    "\n",
    "def fitfn0(ad):\n",
    "    ad=T.tensor(ad, requires_grad=True);\n",
    "    r=fitfn(ad)\n",
    "    return r.data.cpu().numpy()#, p.grad.data.cpu().numpy()\n",
    "\n",
    "# define the initial adjusters position\n",
    "ad=np.zeros((3,12));\n",
    "start=time.clock();\n",
    "x=scipy.optimize.leastsq(fitfn0,ad);\n",
    "elapsed = (time.clock() - start);\n",
    "print(\"Time used:\",elapsed);\n",
    "\n",
    "print('1.fitting results: adjusters')\n",
    "print(x[0].reshape(3,-1))\n",
    "error=(np.sum(np.abs(ad1-x[0].reshape(3,-1)))/36)*1000\n",
    "print('2. surface error of fitting adjusters positon relative to measurement adjusters: %e um'% error);"
   ]
  },
  {
   "cell_type": "code",
   "execution_count": null,
   "metadata": {},
   "outputs": [],
   "source": []
  }
 ],
 "metadata": {
  "kernelspec": {
   "display_name": "Python 3",
   "language": "python",
   "name": "python3"
  },
  "language_info": {
   "codemirror_mode": {
    "name": "ipython",
    "version": 3
   },
   "file_extension": ".py",
   "mimetype": "text/x-python",
   "name": "python",
   "nbconvert_exporter": "python",
   "pygments_lexer": "ipython3",
   "version": "3.5.6"
  }
 },
 "nbformat": 4,
 "nbformat_minor": 2
}
