{
 "cells": [
  {
   "cell_type": "code",
   "execution_count": 2,
   "metadata": {},
   "outputs": [],
   "source": [
    "import numpy as np\n",
    "import torch as T\n",
    "import scipy; import scipy.optimize;\n",
    "import time;\n",
    "\n",
    "import matplotlib;\n",
    "import matplotlib.pyplot as plt\n",
    "\n",
    "import  forward_method as FM;\n"
   ]
  },
  {
   "cell_type": "code",
   "execution_count": 3,
   "metadata": {},
   "outputs": [
    {
     "name": "stdout",
     "output_type": "stream",
     "text": [
      "adjusters:\n",
      "[[ 0.00487079  0.00080254 -0.00257665  0.0015929   0.00719447 -0.00560433\n",
      "   0.00027183  0.00361239  0.00222487  0.00245586 -0.002853   -0.00017701]\n",
      " [-0.00186707  0.00474497 -0.00351211 -0.00339643  0.0053835  -0.00263841\n",
      "  -0.00641873 -0.00122521  0.00440131  0.00223672  0.00216439 -0.0051667 ]\n",
      " [-0.0088096  -0.00108992  0.00441303 -0.00150238  0.00107743  0.00412701\n",
      "   0.00084677 -0.00914835  0.0044579  -0.00359014  0.00023177  0.00462627]]\n"
     ]
    }
   ],
   "source": [
    "# get measurement data;\n",
    "ad1=np.random.normal(0,0.005,(3,12)) # ad1 is the three different adjusters\n",
    "print('adjusters:');\n",
    "print(ad1)\n",
    "p=T.tensor(FM.adjuster2P(ad1));\n",
    "real_meas,imag_meas=FM.near_field(p);\n",
    "\n",
    "# add noise to measurement data;\n",
    "FM.addnoise(real_meas,imag_meas,0,0.1);\n",
    "Data_meas=T.cat((real_meas,imag_meas));\n"
   ]
  },
  {
   "cell_type": "code",
   "execution_count": 7,
   "metadata": {},
   "outputs": [
    {
     "name": "stdout",
     "output_type": "stream",
     "text": [
      ">>>> fitting process with pyTorch package\n",
      "1.fitting results: adjusters\n",
      "[[ 0.00454232 -0.0010847  -0.00269637  0.00139864  0.00709016 -0.00660427\n",
      "  -0.00025253  0.00345188  0.00229201  0.00379577 -0.00209235  0.00016759]\n",
      " [-0.00217024  0.00494846 -0.00277639 -0.00283854  0.00533561 -0.00450965\n",
      "  -0.00652207 -0.00117635  0.00424023  0.00438858  0.00131201 -0.00470522]\n",
      " [-0.0105552  -0.00256632  0.00423081 -0.00160525  0.00091376  0.00450152\n",
      "   0.00181949 -0.00891988  0.00398408 -0.00273491  0.0005865   0.00425047]]\n",
      "2.residual is 1.898075e+01\n",
      "3. rms of fitting adjusters positon relative to measurement adjusters: 1.396871e-01 um\n"
     ]
    }
   ],
   "source": [
    "\"\"\"\n",
    "fitting process with pyTorch package!\n",
    "\"\"\"\n",
    "print('>>>> fitting process with pyTorch package')\n",
    "def fitfn(ad):\n",
    "    p=FM.adjuster2P(ad);\n",
    "    \n",
    "    real,imag=FM.near_field(p);\n",
    "    r=T.cat((real_meas-real,imag_meas-imag))\n",
    "\n",
    "    return r;\n",
    "def fitfn0(ad):\n",
    "    ad=T.tensor(ad, requires_grad=True);\n",
    "    r=(fitfn(ad)**2).sum();\n",
    "    r.backward();\n",
    "    #print(r)\n",
    "    return r.data.cpu().numpy(), ad.grad.data.cpu().numpy()\n",
    "\n",
    "# define the initial adjusters position\n",
    "ad=np.zeros((3,12));\n",
    "x=scipy.optimize.minimize(fitfn0,ad,method=\"BFGS\",jac=True,tol=1e-5);\n",
    "\n",
    "print('1.fitting results: adjusters')\n",
    "print(x.x.reshape(3,-1))\n",
    "print('2.residual is %e'% x.fun)\n",
    "error=(np.sqrt(np.sum((ad1-x.x.reshape(3,-1))**2))/36)*1000\n",
    "print('3. rms of fitting adjusters positon relative to measurement adjusters: %e um'% error);"
   ]
  },
  {
   "cell_type": "code",
   "execution_count": 6,
   "metadata": {},
   "outputs": [
    {
     "data": {
      "text/plain": [
       "0.13968707368856847"
      ]
     },
     "execution_count": 6,
     "metadata": {},
     "output_type": "execute_result"
    }
   ],
   "source": []
  },
  {
   "cell_type": "code",
   "execution_count": null,
   "metadata": {},
   "outputs": [],
   "source": [
    "\"\"\"\n",
    "fitting process with numpy\n",
    "\"\"\"\n",
    "print('>>>>fitting process with numpy')\n",
    "def fitfn(ad): \n",
    "    p=FM.adjuster2P(ad);\n",
    "    real,imag=FM.far_field(p);\n",
    "    r=T.cat((real_meas-real,imag_meas-imag))\n",
    "    return r;\n",
    "\n",
    "def fitfn0(ad):\n",
    "    ad=T.tensor(ad, requires_grad=True);\n",
    "    r=fitfn(ad)\n",
    "    return r.data.cpu().numpy()#, p.grad.data.cpu().numpy()\n",
    "\n",
    "# define the initial adjusters position\n",
    "ad=np.zeros((3,12));\n",
    "x=scipy.optimize.leastsq(fitfn0,ad);\n",
    "\n",
    "print()\n",
    "print(x[0].reshape(3,-1))"
   ]
  },
  {
   "cell_type": "code",
   "execution_count": null,
   "metadata": {},
   "outputs": [],
   "source": []
  }
 ],
 "metadata": {
  "kernelspec": {
   "display_name": "Python 3",
   "language": "python",
   "name": "python3"
  },
  "language_info": {
   "codemirror_mode": {
    "name": "ipython",
    "version": 3
   },
   "file_extension": ".py",
   "mimetype": "text/x-python",
   "name": "python",
   "nbconvert_exporter": "python",
   "pygments_lexer": "ipython3",
   "version": "3.5.6"
  }
 },
 "nbformat": 4,
 "nbformat_minor": 2
}
