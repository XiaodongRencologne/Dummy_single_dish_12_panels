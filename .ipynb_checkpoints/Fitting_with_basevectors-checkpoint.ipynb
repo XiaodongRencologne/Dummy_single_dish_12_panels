{
 "cells": [
  {
   "cell_type": "code",
   "execution_count": 1,
   "metadata": {},
   "outputs": [],
   "source": [
    "import numpy as np\n",
    "import torch as T\n",
    "import scipy; import scipy.optimize;\n",
    "import time;\n",
    "\n",
    "import matplotlib;\n",
    "import matplotlib.pyplot as plt\n",
    "\n",
    "import  forward_method as FM;\n"
   ]
  },
  {
   "cell_type": "code",
   "execution_count": 17,
   "metadata": {},
   "outputs": [],
   "source": [
    "\"\"\"\n",
    "cell 1: model of \n",
    "define distance between field and reflector;\n",
    "define the smapling points.\n",
    "\"\"\"\n",
    "D=90*10**3; # distance between source and reflector\n",
    "Nu=Nv=11;   #sampling points of far-/near-field\n",
    "noise=0.5;  # rms of the noise added to measurement pattern.\n",
    "rms_surface=0.08#mm # rms of the surface error.\n",
    "\n",
    "Nx=5;    # sampling poitns on x direction; for panels\n",
    "Ny=5;    # sampling points on y direction;\n",
    "##############################################################################\n",
    "List=np.array([[-500,500,-1500,-500,500,1500,-1500,-500,500,1500,-500,500],\n",
    "               [1500,1500,500,500,500,500,-500,-500,-500,-500,-1500,-1500]]);\n",
    "size=1000; # size of panel\n",
    "Nx=5;    # sampling poitns on x direction;\n",
    "Ny=5;    # sampling points on y direction;\n",
    "f=100*10**3;\n",
    "\n",
    "Lambda=1#mm\n",
    "sigma=1200;Amp_0=1\n",
    "# define u v range\n",
    "\n",
    "u=np.linspace(-1,1,Nu)*0.002;\n",
    "v=np.linspace(-1,1,Nu)*0.002;\n",
    "gird=np.moveaxis(np.meshgrid(u,v),0,-1);\n",
    "u=gird[...,0];\n",
    "v=gird[...,1];\n",
    "m_x,m_y,m_z=FM.reflector(List,size,Nx,Ny,f)\n",
    "far_field=FM.get_function(List,size,Nx,Ny,f,u,v,f,Lambda,sigma,Amp_0);\n",
    "\n",
    "# near field\n",
    "near_field=FM.get_function(List,size,Nx,Ny,f,u,v,D,Lambda,sigma,Amp_0);"
   ]
  },
  {
   "cell_type": "code",
   "execution_count": 18,
   "metadata": {},
   "outputs": [],
   "source": [
    "\"\"\"\n",
    "Cell 2: get the measurement data!\n",
    "\"\"\"\n",
    "# get measurement data;\n",
    "\n",
    "ad1=np.random.normal(0,rms_surface,(3,12));\n",
    "\n",
    "p=T.tensor(FM.adjuster2P(ad1));\n",
    "\n",
    "real_meas,imag_meas=near_field(p);\n",
    "\n",
    "if noise != 0:\n",
    "    FM.addnoise(real_meas,imag_meas,0,noise);# add noise with measurement data;\n",
    "\n",
    "\n",
    "Data_meas=T.cat((real_meas,imag_meas));\n"
   ]
  },
  {
   "cell_type": "code",
   "execution_count": 19,
   "metadata": {},
   "outputs": [
    {
     "name": "stdout",
     "output_type": "stream",
     "text": [
      "Time used: 120.95969699804186\n",
      "1. fitting error: 5.170357e-01 um\n",
      "2. fitting results:\n",
      "[[ 0.0971062   0.08266085 -0.00604121  0.00533036  0.09090755 -0.10178525\n",
      "   0.03740765 -0.094346   -0.01306184  0.10521561 -0.04459768  0.00746923]\n",
      " [-0.01468219  0.08067357  0.04456777 -0.04667248  0.11969182  0.02856853\n",
      "  -0.15727111  0.11044498 -0.07258752  0.04759244 -0.0148612   0.02261028]\n",
      " [-0.04151645 -0.04265257  0.12561801 -0.03146079  0.0654618  -0.06981505\n",
      "   0.07337873  0.01644971 -0.08398018 -0.07729331 -0.11549123  0.02897557]]\n",
      "3. real adjusters of test:\n",
      "[[ 0.09715427  0.08270616 -0.00489106  0.00542553  0.09072579 -0.10141818\n",
      "   0.0374016  -0.0943357  -0.01305261  0.10406097 -0.04433008  0.00782411]\n",
      " [-0.01525418  0.08194997  0.04249014 -0.04663364  0.11938271  0.02987219\n",
      "  -0.15702698  0.11056579 -0.0726271   0.04669748 -0.01494239  0.02253972]\n",
      " [-0.04195711 -0.04119085  0.12676425 -0.03124501  0.06523939 -0.07167039\n",
      "   0.0733238   0.016296   -0.08464934 -0.0773087  -0.11480581  0.02800215]]\n"
     ]
    }
   ],
   "source": [
    "\"\"\"\n",
    "Cell 3:\n",
    "fitting process with unit_vectors\n",
    "\"\"\"\n",
    "\n",
    "start=time.clock();\n",
    "ad=np.zeros((3,12));\n",
    "dz=10/1000;\n",
    "for n in range(5):\n",
    "    reference,base_vectors=FM.basevectors(near_field,ad,dz);\n",
    "    test=Data_meas-reference;\n",
    "    def fitfn(p):\n",
    "        \n",
    "        #p=T.tensor(p, requires_grad=True);        \n",
    "        p=T.tensor(p).view(-1,1);\n",
    "        r=(test-T.sum(p*base_vectors,0));\n",
    "        return r.data.cpu().numpy()#,p.grad.data.cpu().numpy()\n",
    "    para=np.zeros((3,12));\n",
    "    x=scipy.optimize.leastsq(fitfn,para);\n",
    "    #print(x[0])\n",
    "    ad=ad+x[0].reshape((3,12))*dz;\n",
    "    dz=1/1000;\n",
    "    \n",
    "elapsed = (time.clock() - start);\n",
    "print(\"Time used:\",elapsed);   \n",
    "error=np.sum(np.abs(ad-ad1))/36*1000;\n",
    "print('1. fitting error: %e um'% error);\n",
    "print('2. fitting results:');\n",
    "print(ad);\n",
    "print('3. real adjusters of test:')\n",
    "print(ad1);\n",
    "\n",
    "    "
   ]
  },
  {
   "cell_type": "code",
   "execution_count": null,
   "metadata": {},
   "outputs": [],
   "source": []
  }
 ],
 "metadata": {
  "kernelspec": {
   "display_name": "Python 3",
   "language": "python",
   "name": "python3"
  },
  "language_info": {
   "codemirror_mode": {
    "name": "ipython",
    "version": 3
   },
   "file_extension": ".py",
   "mimetype": "text/x-python",
   "name": "python",
   "nbconvert_exporter": "python",
   "pygments_lexer": "ipython3",
   "version": "3.5.6"
  }
 },
 "nbformat": 4,
 "nbformat_minor": 2
}
