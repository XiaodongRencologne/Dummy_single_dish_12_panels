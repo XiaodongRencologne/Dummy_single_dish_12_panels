{
 "cells": [
  {
   "cell_type": "code",
   "execution_count": 22,
   "metadata": {},
   "outputs": [],
   "source": [
    "import numpy as np\n",
    "import torch as T\n",
    "import scipy; import scipy.optimize;\n",
    "import time;\n",
    "\n",
    "import matplotlib;\n",
    "import matplotlib.pyplot as plt\n",
    "\n",
    "import  forward_method as FM;\n"
   ]
  },
  {
   "cell_type": "code",
   "execution_count": 23,
   "metadata": {},
   "outputs": [],
   "source": [
    "\"\"\"\n",
    "cell 1: define\n",
    "define distance between field and reflector;\n",
    "define the smapling points.\n",
    "\"\"\"\n",
    "D=90*10**3; # distance between source and reflector\n",
    "Nu=Nv=11;   #sampling points of far-/near-field\n",
    "noise=0.5;   # rms of the noise added to measurement pattern.\n",
    "rms_surface=0.08#mm # rms of the surface error.\n",
    "\n",
    "Nx=5;    # sampling poitns on x direction; for panels\n",
    "Ny=5;    # sampling points on y direction;\n",
    "##############################################################################\n",
    "List=np.array([[-500,500,-1500,-500,500,1500,-1500,-500,500,1500,-500,500],\n",
    "               [1500,1500,500,500,500,500,-500,-500,-500,-500,-1500,-1500]]);\n",
    "size=1000; # size of panel\n",
    "Nx=5;    # sampling poitns on x direction;\n",
    "Ny=5;    # sampling points on y direction;\n",
    "f=100*10**3;\n",
    "\n",
    "Lambda=1#mm\n",
    "sigma=1200;Amp_0=1\n",
    "# define u v range\n",
    "\n",
    "u=np.linspace(-1,1,Nu)*0.002;\n",
    "v=np.linspace(-1,1,Nu)*0.002;\n",
    "gird=np.moveaxis(np.meshgrid(u,v),0,-1);\n",
    "u=gird[...,0];\n",
    "v=gird[...,1];\n",
    "m_x,m_y,m_z=FM.reflector(List,size,Nx,Ny,f)\n",
    "far_field=FM.get_function(List,size,Nx,Ny,f,u,v,f,Lambda,sigma,Amp_0);\n",
    "\n",
    "# near field\n",
    "near_field=FM.get_function(List,size,Nx,Ny,f,u,v,D,Lambda,sigma,Amp_0);"
   ]
  },
  {
   "cell_type": "code",
   "execution_count": 24,
   "metadata": {},
   "outputs": [
    {
     "name": "stdout",
     "output_type": "stream",
     "text": [
      "adjusters for test data:\n",
      "[[-0.017676   -0.11660406  0.15004756  0.02985367 -0.02726581 -0.04923315\n",
      "   0.07648087  0.08722271  0.05483345 -0.01309926 -0.05728369 -0.01763052]\n",
      " [-0.12764133  0.07156887  0.03231274  0.08823446 -0.13266041  0.06919138\n",
      "  -0.00557582  0.03003395 -0.0994673   0.12648421  0.08757917 -0.0460866 ]\n",
      " [-0.06659225 -0.13164274  0.0789126   0.18761358 -0.01187772 -0.03575967\n",
      "  -0.15265021 -0.06516927  0.03825771  0.01692558  0.12100253 -0.06719387]]\n"
     ]
    }
   ],
   "source": [
    "\"\"\"\n",
    "Cell 2: get the measurement data!\n",
    "\"\"\"\n",
    "# get measurement data;\n",
    "ad1=np.random.normal(0,rms_surface,(3,12)) # ad1 is the three different adjusters\n",
    "\n",
    "print('adjusters for test data:');\n",
    "print(ad1)\n",
    "p=T.tensor(FM.adjuster2P(ad1));\n",
    "real_meas,imag_meas=near_field(p);\n",
    "\n",
    "# add noise to measurement data;\n",
    "if noise !=0:\n",
    "    FM.addnoise(real_meas,imag_meas,0,noise);\n",
    "\n",
    "Data_meas=T.cat((real_meas,imag_meas));\n"
   ]
  },
  {
   "cell_type": "code",
   "execution_count": 25,
   "metadata": {},
   "outputs": [
    {
     "name": "stdout",
     "output_type": "stream",
     "text": [
      ">>>> fitting process with pyTorch package\n",
      "Time used: 308.42132461542553\n",
      "1.fitting results: adjusters\n",
      "[[-0.01607655 -0.11518959  0.15199692  0.0300363  -0.0271714  -0.05047187\n",
      "   0.07574656  0.08735849  0.05465722 -0.01289772 -0.05704211 -0.01733283]\n",
      " [-0.12770233  0.07225611  0.02975199  0.08828042 -0.13272053  0.06815467\n",
      "  -0.00491817  0.03012128 -0.09986492  0.1264089   0.08762026 -0.04584487]\n",
      " [-0.06491942 -0.12873741  0.07875068  0.18779418 -0.01180938 -0.03578596\n",
      "  -0.15164391 -0.06488951  0.03880528  0.01642978  0.12106382 -0.06738681]]\n",
      "2.residual is 1.300425e+04\n",
      "3. rms of fitting adjusters positon relative to measurement adjusters: 6.060458e-01 um\n"
     ]
    }
   ],
   "source": [
    "\"\"\"\n",
    "Cell 3:\n",
    "fitting process with pyTorch package!\n",
    "\"\"\"\n",
    "print('>>>> fitting process with pyTorch package')\n",
    "def fitfn(ad):\n",
    "    p=FM.adjuster2P(ad);\n",
    "    \n",
    "    real,imag=near_field(p);\n",
    "    r=T.cat((real_meas-real,imag_meas-imag))\n",
    "\n",
    "    return r;\n",
    "def fitfn0(ad):\n",
    "    ad=T.tensor(ad, requires_grad=True);\n",
    "    r=(fitfn(ad)**2).sum();\n",
    "    r.backward();\n",
    "    #print(r)\n",
    "    return r.data.cpu().numpy(), ad.grad.data.cpu().numpy()\n",
    "\n",
    "# define the initial adjusters position\n",
    "ad=np.zeros((3,12));\n",
    "start=time.clock();\n",
    "x=scipy.optimize.minimize(fitfn0,ad,method=\"BFGS\",jac=True,tol=1e-5);\n",
    "elapsed = (time.clock() - start);\n",
    "print(\"Time used:\",elapsed);\n",
    "\n",
    "print('1.fitting results: adjusters')\n",
    "print(x.x.reshape(3,-1))\n",
    "print('2.residual is %e'% x.fun)\n",
    "\n",
    "error=(np.sum(np.abs(ad1-x.x.reshape(3,-1)))/36)*1000\n",
    "print('3. rms of fitting adjusters positon relative to measurement adjusters: %e um'% error);"
   ]
  },
  {
   "cell_type": "code",
   "execution_count": 18,
   "metadata": {},
   "outputs": [
    {
     "name": "stdout",
     "output_type": "stream",
     "text": [
      ">>>>fitting process with numpy\n",
      "Time used: 20.501895975589235\n",
      "1.fitting results: adjusters\n",
      "[[ 0.17159607 -0.04345302 -0.04904771  0.08839964 -0.08877105 -0.02323882\n",
      "  -0.10348874  0.2165223   0.00567226  0.00246854  0.19745818  0.01074936]\n",
      " [ 0.07633944  0.07355157 -0.09650522 -0.01163894 -0.04131937  0.01862301\n",
      "   0.08204397  0.05447957  0.16530312 -0.02376186  0.07866487 -0.06984263]\n",
      " [-0.00975745  0.061757   -0.06186337  0.03205627  0.09275948 -0.02868077\n",
      "  -0.04960083  0.00607885  0.11070863  0.06645419  0.00077842 -0.14530495]]\n",
      "2. surface error of fitting adjusters positon relative to measurement adjusters: 2.079299e+00 um\n"
     ]
    }
   ],
   "source": [
    "\"\"\"\n",
    "Cell 4\n",
    "fitting process with numpy\n",
    "\"\"\"\n",
    "print('>>>>fitting process with numpy')\n",
    "def fitfn(ad): \n",
    "    p=FM.adjuster2P(ad);\n",
    "    real,imag=near_field(p);\n",
    "    r=T.cat((real_meas-real,imag_meas-imag))\n",
    "    return r;\n",
    "\n",
    "def fitfn0(ad):\n",
    "    ad=T.tensor(ad, requires_grad=True);\n",
    "    r=fitfn(ad)\n",
    "    return r.data.cpu().numpy()#, p.grad.data.cpu().numpy()\n",
    "\n",
    "# define the initial adjusters position\n",
    "ad=np.zeros((3,12));\n",
    "start=time.clock();\n",
    "x=scipy.optimize.leastsq(fitfn0,ad);\n",
    "elapsed = (time.clock() - start);\n",
    "print(\"Time used:\",elapsed);\n",
    "\n",
    "print('1.fitting results: adjusters')\n",
    "print(x[0].reshape(3,-1))\n",
    "error=(np.sum(np.abs(ad1-x[0].reshape(3,-1)))/36)*1000\n",
    "print('2. surface error of fitting adjusters positon relative to measurement adjusters: %e um'% error);"
   ]
  },
  {
   "cell_type": "code",
   "execution_count": null,
   "metadata": {},
   "outputs": [],
   "source": []
  }
 ],
 "metadata": {
  "kernelspec": {
   "display_name": "Python 3",
   "language": "python",
   "name": "python3"
  },
  "language_info": {
   "codemirror_mode": {
    "name": "ipython",
    "version": 3
   },
   "file_extension": ".py",
   "mimetype": "text/x-python",
   "name": "python",
   "nbconvert_exporter": "python",
   "pygments_lexer": "ipython3",
   "version": "3.5.6"
  }
 },
 "nbformat": 4,
 "nbformat_minor": 2
}
